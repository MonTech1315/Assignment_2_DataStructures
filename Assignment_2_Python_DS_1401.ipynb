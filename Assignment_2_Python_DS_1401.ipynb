{
  "nbformat": 4,
  "nbformat_minor": 0,
  "metadata": {
    "colab": {
      "provenance": []
    },
    "kernelspec": {
      "name": "python3",
      "display_name": "Python 3"
    },
    "language_info": {
      "name": "python"
    }
  },
  "cells": [
    {
      "cell_type": "markdown",
      "source": [
        "1) What are Data structures ans why are they important?\n",
        "- Data structures are the specialised format for organinsig, storing and manipulating data in a programme to enable efficient acces and modification.\n",
        "\n",
        "- They are important because it helps us to store data element in more efficient format and to work effictevely"
      ],
      "metadata": {
        "id": "bqCZVnDWpyQm"
      }
    },
    {
      "cell_type": "markdown",
      "source": [
        "2) Explain the difference between mutable and immutable data types with examples\n",
        "\n",
        "-Mutable data types: Data types whose values can be modified after creation\n",
        " EX: List\n",
        "\n",
        " -Immutable data types: Data types whose values  can not be modified after creation\n",
        " EX: Tuple"
      ],
      "metadata": {
        "id": "9cDCHOw9sUWx"
      }
    },
    {
      "cell_type": "markdown",
      "source": [
        "3) What are the main differences between lists and tuples in Python?\n",
        "\n",
        "- List is mutable data structures where as tuple is immutable data structures\n",
        "- List are stored in square bracket whrere as tupls are stored inside paranthesis"
      ],
      "metadata": {
        "id": "r1uUV_mp-GXi"
      }
    },
    {
      "cell_type": "markdown",
      "source": [
        "4)Describe how dictionaries store data\n",
        "- Dictionary stores data in the form of key and values"
      ],
      "metadata": {
        "id": "gVGtKcmB_rMP"
      }
    },
    {
      "cell_type": "markdown",
      "source": [
        "5) Why might you use a set instead of a list in Python?\n",
        "- Set are generally preferred over list where duplicats are not allowed or uniqueness is key factor\n",
        "- Sets are also ideal for mathematical set of operations like union, intersection and difference due to its fast execution"
      ],
      "metadata": {
        "id": "4xjMaoUq_9tk"
      }
    },
    {
      "cell_type": "markdown",
      "source": [
        "6)What is a string in Python, and how is it different from a list?\n",
        "- Strings are immutabel data structures used for representing and manipulating textual data where as list are mutable data structures and ideally can be store any type of data"
      ],
      "metadata": {
        "id": "aR50xeTVFQPk"
      }
    },
    {
      "cell_type": "markdown",
      "source": [
        "7) How do tuples ensure data integrity in Python?\n",
        "- Tuples ensure data integrity by being immutable which pevents accidental or intentiional modification"
      ],
      "metadata": {
        "id": "u4Xs1YTyJknN"
      }
    },
    {
      "cell_type": "markdown",
      "source": [
        "8) What is a hash table, and how does it relate to dictionaries in Python?\n",
        "- Hash table is a data structurers that stores key value pairs\n",
        "- Keys in pyhthon dictionary are hashed to compute their unique index, where corresponding value is stored."
      ],
      "metadata": {
        "id": "XjZH6IqzOggQ"
      }
    },
    {
      "cell_type": "markdown",
      "source": [
        "9) Can lists contain different data types in Python?\n",
        "- Yes list can contain different data types in python"
      ],
      "metadata": {
        "id": "4aFCEJ7aceTT"
      }
    },
    {
      "cell_type": "markdown",
      "source": [
        "10) Explain why strings are immutable in Python?\n",
        "- String in pyhon are immutable to ensure efficient memory management, consistent behaviour and safe reliable usage in key areas of programming"
      ],
      "metadata": {
        "id": "Ft9If8I5css-"
      }
    },
    {
      "cell_type": "markdown",
      "source": [
        "11) What advantages do dictionaries offer over lists for certain tasks?\n",
        "- Dictionaries offer various advantages over list for certain tasks which are as follows\n",
        "\n",
        "1.   Uniquensss is maintained in form of keys\n",
        "2.   Helps is accesing items fast as dictionary uses hash table under the\n",
        "hood allowing for O(1) averge time complexity for lookups, assitions and deletion compared to O(n) for searching in list\n",
        "3.   Ease of representing relationship\n",
        "\n",
        "\n",
        "\n",
        "\n",
        "\n"
      ],
      "metadata": {
        "id": "GjMkLq2neEsf"
      }
    },
    {
      "cell_type": "markdown",
      "source": [
        "12) Describe a scenario where using a tuple would be preferable over a list?\n",
        "-  Tuple is generally prefered over list where data modification is generally avoided and ordered collection is preffered with more memory efficient"
      ],
      "metadata": {
        "id": "cXyQRlbAiahh"
      }
    },
    {
      "cell_type": "markdown",
      "source": [
        "13)How do sets handle duplicate values in Python?\n",
        "-Sets automaticaally remove duplicate values as sets are implemented using hash tables, which stores elements based on hash values and hash values for duplicates are identical hence only one instances of duplicate is stored in set."
      ],
      "metadata": {
        "id": "4cW06_ztjwmF"
      }
    },
    {
      "cell_type": "markdown",
      "source": [
        "14) How does the “in” keyword work differently for lists and dictionaries?\n",
        "- in key word is a key charachter for searching inside a data structurs but are oprated under different types like in functuin in a lis check for the existence of values in a list whrere as in dictionatry in function is used to check the key not a values."
      ],
      "metadata": {
        "id": "OQSn0hBEmBH2"
      }
    },
    {
      "cell_type": "markdown",
      "source": [
        "15) Can you modify the elements of a tuple? Explain why or why not?\n",
        "- No tuples can not modify once it is created as its a immutable data structures and thsi immutablility is enforced to ensure data integrity and enabling hashing."
      ],
      "metadata": {
        "id": "JrMOPiVOpnRN"
      }
    },
    {
      "cell_type": "markdown",
      "source": [
        "16) What is a nested dictionary, and give an example of its use case?\n",
        "-Nested dictionry are dictionary iside dictionary and its use cases can be an example where there is a need of further sub classification under classifiacation"
      ],
      "metadata": {
        "id": "xrRwC3VCst3m"
      }
    },
    {
      "cell_type": "markdown",
      "source": [
        "17) Describe the time complexity of accessing elements in a dictionary?\n",
        "- Time complexity of accesign elements in dictionarty is generally of type O(1) and in worst case scenario it can be of type O(n) due to hash collision"
      ],
      "metadata": {
        "id": "vLYiB3UK9VuK"
      }
    },
    {
      "cell_type": "markdown",
      "source": [
        "18) In what situations are lists preferred over dictionaries?\n",
        "- List are generally preffered over dictionary where there are multiple types of data has to be stored and can be modified also after creation\n",
        "- When it is requires to access the elements by index rather than key"
      ],
      "metadata": {
        "id": "kN42aGnMCdBy"
      }
    },
    {
      "cell_type": "markdown",
      "source": [
        "19) Why are dictionaries considered unordered, and how does that affect data retrieval?\n",
        "- Dictionary is considered to be unordered  because the elements in the dictionary are stored based on the hash values\n",
        "- Data retrival is comparatively faster due to underlying hash table implementation"
      ],
      "metadata": {
        "id": "Zk7w-I8nMIWu"
      }
    },
    {
      "cell_type": "markdown",
      "source": [
        "20) Explain the difference between a list and a dictionary in terms of data retrieval?\n",
        "- List undergoes index based data retrival where as dictionary undergoes retrival using keys which follow hash tables internally allowing much faster retrival."
      ],
      "metadata": {
        "id": "THmNcmSYNU1l"
      }
    },
    {
      "cell_type": "markdown",
      "source": [
        "**PRACTICAL QUESTIONS**"
      ],
      "metadata": {
        "id": "VgbHzRM8OUEC"
      }
    },
    {
      "cell_type": "code",
      "source": [
        "#Write a code to create a string with your name and print it\n",
        "Name = \"Mohsin\"\n",
        "print(Name)"
      ],
      "metadata": {
        "colab": {
          "base_uri": "https://localhost:8080/"
        },
        "id": "YsUAr0adOhZ3",
        "outputId": "e37f9e03-f1cd-43df-ec61-cc86ce78e942"
      },
      "execution_count": 1,
      "outputs": [
        {
          "output_type": "stream",
          "name": "stdout",
          "text": [
            "Mohsin\n"
          ]
        }
      ]
    },
    {
      "cell_type": "code",
      "source": [
        "# Write a code to find the length of the string \"Hello World\"\n",
        "Length = len(\"Hello World\")\n",
        "print(Length)"
      ],
      "metadata": {
        "colab": {
          "base_uri": "https://localhost:8080/"
        },
        "id": "DtK_DNp-Ou3d",
        "outputId": "eb08c4f7-84ee-4ec4-c4a6-b2a719bd7c1e"
      },
      "execution_count": 2,
      "outputs": [
        {
          "output_type": "stream",
          "name": "stdout",
          "text": [
            "11\n"
          ]
        }
      ]
    },
    {
      "cell_type": "code",
      "source": [
        "#;Write a code to slice the first 3 characters from the string \"Python Programming\"\n",
        "String = \"Python Programming\"\n",
        "S_S = String[3:]\n",
        "print(S_S)"
      ],
      "metadata": {
        "colab": {
          "base_uri": "https://localhost:8080/"
        },
        "id": "p6NeAeB0O6aU",
        "outputId": "07ef6ef7-1414-4c63-ef3a-79c2c2c04148"
      },
      "execution_count": 14,
      "outputs": [
        {
          "output_type": "stream",
          "name": "stdout",
          "text": [
            "hon Programming\n"
          ]
        }
      ]
    },
    {
      "cell_type": "code",
      "source": [
        "#Write a code to convert the string \"hello\" to uppercase\n",
        "Str = \"hello\"\n",
        "US = Str.upper()\n",
        "print(US)"
      ],
      "metadata": {
        "colab": {
          "base_uri": "https://localhost:8080/"
        },
        "id": "lj3Yv1LtSvzr",
        "outputId": "b97cf4dd-32e4-454a-fceb-c16175cd55de"
      },
      "execution_count": 17,
      "outputs": [
        {
          "output_type": "stream",
          "name": "stdout",
          "text": [
            "HELLO\n"
          ]
        }
      ]
    },
    {
      "cell_type": "code",
      "source": [
        "#5) Write a code to replace the word \"apple\" with \"orange\" in the string \"I like apple\"\n",
        "Str = \"I like apple\"\n",
        "Str = Str.replace(\"apple\",\"orange\")\n",
        "print(Str)"
      ],
      "metadata": {
        "colab": {
          "base_uri": "https://localhost:8080/"
        },
        "id": "MUaLMCacT2IP",
        "outputId": "1c3450f6-2dd0-401e-bb70-e9e075ebe400"
      },
      "execution_count": 25,
      "outputs": [
        {
          "output_type": "stream",
          "name": "stdout",
          "text": [
            "I like orange\n"
          ]
        }
      ]
    },
    {
      "cell_type": "code",
      "source": [
        "#6)Write a code to create a list with numbers 1 to 5 and print it\n",
        "List  = list(range(5))\n",
        "print(List)"
      ],
      "metadata": {
        "colab": {
          "base_uri": "https://localhost:8080/"
        },
        "id": "Bw-63RUnVVCM",
        "outputId": "ecf11ebf-345d-43ac-96c5-346fb390a704"
      },
      "execution_count": 29,
      "outputs": [
        {
          "output_type": "stream",
          "name": "stdout",
          "text": [
            "[0, 1, 2, 3, 4]\n"
          ]
        }
      ]
    },
    {
      "cell_type": "code",
      "source": [
        "#7)Write a code to append the number 10 to the list [1, 2, 3, 4]\n",
        "L = [1,2,3,4]\n",
        "L.append(10)\n",
        "print(L)"
      ],
      "metadata": {
        "colab": {
          "base_uri": "https://localhost:8080/"
        },
        "id": "QjQJ2iBPYdiQ",
        "outputId": "411f801d-e062-49d7-ca0e-e7baa30efeab"
      },
      "execution_count": 34,
      "outputs": [
        {
          "output_type": "stream",
          "name": "stdout",
          "text": [
            "[1, 2, 3, 4, 10]\n"
          ]
        }
      ]
    },
    {
      "cell_type": "code",
      "source": [
        "#8) Write a code to remove the number 3 from the list [1, 2, 3, 4, 5]\n",
        "L = [1,2,3,4,5]\n",
        "L.remove(3)\n",
        "print(L)"
      ],
      "metadata": {
        "colab": {
          "base_uri": "https://localhost:8080/"
        },
        "id": "TeXnYA7yadri",
        "outputId": "3046ddde-ceb6-4e28-bbc4-c67f3631f5c2"
      },
      "execution_count": 36,
      "outputs": [
        {
          "output_type": "stream",
          "name": "stdout",
          "text": [
            "[1, 2, 4, 5]\n"
          ]
        }
      ]
    },
    {
      "cell_type": "code",
      "source": [
        "#9)Write a code to access the second element in the list ['a', 'b', 'c', 'd']\n",
        "L = [\"a\",\"b\",\"c\",\"d\"]\n",
        "print(L[1])"
      ],
      "metadata": {
        "colab": {
          "base_uri": "https://localhost:8080/"
        },
        "id": "y0n16OkSa4Up",
        "outputId": "5d10535e-1f46-4056-fa79-4c6bd2f229d7"
      },
      "execution_count": 39,
      "outputs": [
        {
          "output_type": "stream",
          "name": "stdout",
          "text": [
            "b\n"
          ]
        }
      ]
    },
    {
      "cell_type": "code",
      "source": [
        "#10) Write a code to reverse the list [10, 20, 30, 40, 50].\n",
        "L = [10,20,30,40,50]\n",
        "L.reverse()\n",
        "print(L)"
      ],
      "metadata": {
        "colab": {
          "base_uri": "https://localhost:8080/"
        },
        "id": "dWkI_u6QaGcB",
        "outputId": "4db3811c-1595-4f13-cbaf-44b10c51b0f2"
      },
      "execution_count": 43,
      "outputs": [
        {
          "output_type": "stream",
          "name": "stdout",
          "text": [
            "[50, 40, 30, 20, 10]\n"
          ]
        }
      ]
    },
    {
      "cell_type": "code",
      "source": [
        "#11) Write a code to create a tuple with the elements 10, 20, 30 and print it.\n",
        "Tuple = (10, 20, 30)\n",
        "print(Tuple)"
      ],
      "metadata": {
        "colab": {
          "base_uri": "https://localhost:8080/"
        },
        "id": "27qTndoWb7wl",
        "outputId": "4ee63543-213b-412b-8486-6b6410db644f"
      },
      "execution_count": 1,
      "outputs": [
        {
          "output_type": "stream",
          "name": "stdout",
          "text": [
            "(10, 20, 30)\n"
          ]
        }
      ]
    },
    {
      "cell_type": "code",
      "source": [
        "#12. Write a code to access the first element of the tuple ('apple', 'banana', 'cherry').\n",
        "T = (\"Apple\", \"Banana\", \"Cherry\")\n",
        "print(T[0])"
      ],
      "metadata": {
        "colab": {
          "base_uri": "https://localhost:8080/"
        },
        "id": "Jmts936ow6Es",
        "outputId": "43de047e-945d-43bd-a5d5-5ee42a42cb90"
      },
      "execution_count": 7,
      "outputs": [
        {
          "output_type": "stream",
          "name": "stdout",
          "text": [
            "Apple\n"
          ]
        }
      ]
    },
    {
      "cell_type": "code",
      "source": [
        "#13. Write a code to count how many times the number 2 appears in the tuple (1, 2, 3, 2, 4, 2).\n",
        "T = (1,2,3,2,4,2)\n",
        "T.count(2)"
      ],
      "metadata": {
        "colab": {
          "base_uri": "https://localhost:8080/"
        },
        "id": "c5ytS5_MzyIJ",
        "outputId": "131d1cf4-c6df-4612-dd22-79dd6b94a982"
      },
      "execution_count": 8,
      "outputs": [
        {
          "output_type": "execute_result",
          "data": {
            "text/plain": [
              "3"
            ]
          },
          "metadata": {},
          "execution_count": 8
        }
      ]
    },
    {
      "cell_type": "code",
      "source": [
        "#14. Write a code to find the index of the element \"cat\" in the tuple ('dog', 'cat', 'rabbit').\n",
        "T = (\"Dog\", \"Cat\", \"Rabit\")\n",
        "print(T[1])"
      ],
      "metadata": {
        "colab": {
          "base_uri": "https://localhost:8080/"
        },
        "id": "Ls11-v4x1PaZ",
        "outputId": "6e777db8-bcd2-409a-fe5d-0f75364f9af4"
      },
      "execution_count": 9,
      "outputs": [
        {
          "output_type": "stream",
          "name": "stdout",
          "text": [
            "Cat\n"
          ]
        }
      ]
    },
    {
      "cell_type": "code",
      "source": [
        "#15. Write a code to check if the element \"banana\" is in the tuple ('apple', 'orange', 'banana').\n",
        "T = (\"Apple\", \"Orange\", \"Banana\")\n",
        "if \"Banana\" in T:\n",
        "    print(\"True\")\n",
        "else:\n",
        "    print(\"False\")"
      ],
      "metadata": {
        "colab": {
          "base_uri": "https://localhost:8080/"
        },
        "id": "2XCf40uw1r76",
        "outputId": "7df91438-ce06-44b7-e073-43a7c90da83c"
      },
      "execution_count": 13,
      "outputs": [
        {
          "output_type": "stream",
          "name": "stdout",
          "text": [
            "True\n"
          ]
        }
      ]
    },
    {
      "cell_type": "code",
      "source": [
        "#16. Write a code to create a set with the elements 1, 2, 3, 4, 5 and print it.\n",
        "S = {1,2,3,4,5}\n",
        "print(S)"
      ],
      "metadata": {
        "colab": {
          "base_uri": "https://localhost:8080/"
        },
        "id": "dUY9_65a3Em2",
        "outputId": "383235e1-6a13-404a-c0ae-38d32641e140"
      },
      "execution_count": 14,
      "outputs": [
        {
          "output_type": "stream",
          "name": "stdout",
          "text": [
            "{1, 2, 3, 4, 5}\n"
          ]
        }
      ]
    },
    {
      "cell_type": "code",
      "source": [
        "#17. Write a code to add the element 6 to the set {1, 2, 3, 4}.\n",
        "S = {1,2,3,4,5}\n",
        "S.add(6)\n",
        "print(S)"
      ],
      "metadata": {
        "colab": {
          "base_uri": "https://localhost:8080/"
        },
        "id": "cGVCS__y8X6i",
        "outputId": "01a84652-2c22-4eeb-ffcc-b876fe376be0"
      },
      "execution_count": 17,
      "outputs": [
        {
          "output_type": "stream",
          "name": "stdout",
          "text": [
            "{1, 2, 3, 4, 5, 6}\n"
          ]
        }
      ]
    },
    {
      "cell_type": "code",
      "source": [
        "#18. Write a code to create a tuple with the elements 10, 20, 30 and print it.\n",
        "T = (10,20,30)\n",
        "print(T)"
      ],
      "metadata": {
        "colab": {
          "base_uri": "https://localhost:8080/"
        },
        "id": "SDKB_9yW8k7n",
        "outputId": "0fd8f088-c183-4f80-e680-ac79c65c136e"
      },
      "execution_count": 18,
      "outputs": [
        {
          "output_type": "stream",
          "name": "stdout",
          "text": [
            "(10, 20, 30)\n"
          ]
        }
      ]
    },
    {
      "cell_type": "code",
      "source": [
        "#19. Write a code to access the first element of the tuple ('apple', 'banana', 'cherry').\n",
        "T = (\"Apple\", \"Banana\", \"Cherry\")\n",
        "print(T[0])"
      ],
      "metadata": {
        "colab": {
          "base_uri": "https://localhost:8080/"
        },
        "id": "WfCWznkP9YrY",
        "outputId": "1153e5c1-e42f-43f0-8db8-d643c3863e1b"
      },
      "execution_count": 19,
      "outputs": [
        {
          "output_type": "stream",
          "name": "stdout",
          "text": [
            "Apple\n"
          ]
        }
      ]
    },
    {
      "cell_type": "code",
      "source": [
        "#20. Write a code to count how many times the number 2 appears in the tuple (1, 2, 3, 2, 4, 2).\n",
        "T = (1,2,3,2,4,2)\n",
        "T.count(2)"
      ],
      "metadata": {
        "colab": {
          "base_uri": "https://localhost:8080/"
        },
        "id": "0GTKkeh99s20",
        "outputId": "9b83f95d-58b1-4637-9644-b9533ca4cb62"
      },
      "execution_count": 20,
      "outputs": [
        {
          "output_type": "execute_result",
          "data": {
            "text/plain": [
              "3"
            ]
          },
          "metadata": {},
          "execution_count": 20
        }
      ]
    },
    {
      "cell_type": "code",
      "source": [
        "#21,22,23,24 is same as 14,15,16, and 17 please make sure PW team atleast go thriugh the question waht they are freaming"
      ],
      "metadata": {
        "id": "G3WgQ5qa9yo8"
      },
      "execution_count": null,
      "outputs": []
    }
  ]
}